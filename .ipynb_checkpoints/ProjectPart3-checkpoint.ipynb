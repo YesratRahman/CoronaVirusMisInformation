{
 "cells": [
  {
   "cell_type": "markdown",
   "metadata": {},
   "source": [
    "## Misinformation regarding Corona-virus\n",
    "### Corona Drama (Team 8)\n",
    "Muskaan Narula (muskaannarula22),\n",
    " Yesrat Rahman (yr2818), \n",
    " Yohannes Afework (yohannes17)"
   ]
  },
  {
   "cell_type": "markdown",
   "metadata": {},
   "source": [
    "### Problem Statement: \n",
    "Understanding the spread of information and misinformation on social media regarding Coronavirus using Reddit API data. \n",
    "### Description of the Project Topic: \n",
    "COVID-19 has become the greatest public health challenge for the whole world, and people are dramatically relying on social media to get information such as what should be done to be safe, how many people are infected or dead, or what are the cure. Observing from the beginning of the pandemic, we realized there were so many misleading information posted on social media about the cure, but in reality, there was not any approved cure declared yet. Spreading the misinformation can take people’s lives and cause chaos. Those who are seeking information on social media platforms do not know what to trust or where should look for valid information. It is necessary for all to understand which are the sites and resources we can trust. \n",
    "\n",
    "While it is possible to look at past data on misinformation to understand the spread of it across social media, it won’t be representative of the global pandemic. We need to look at the trends in misinformation related to Coronavirus in order to fully understand how to detect it, and eventually prevent its spread.\n",
    "\n",
    "For our projects, we will be scraping through COVID 19 related data from reddit, where most of the people rely on for information. Be able to observe how quickly this social media can spread misinformation, we can definitely use that to alert general people that we should trust only the health department, or any government approved organization’s provided information. \n",
    "\n"
   ]
  },
  {
   "cell_type": "markdown",
   "metadata": {},
   "source": [
    "### Current limitations and Challenges: \n",
    "\n",
    "\n",
    "1. Social media platforms tend to use automated algorithms to label manipulated posts; however, they are not always perfect. Labelling misinformation would need human labor to go manually over each post. But the question comes to play, will social media invest in human labor to solve the issue? (Keller) \n",
    "2. Secondly, social media platforms are open for everyone; it does not verify individual’s identity. One post can be shared millions of times within a short period of time. Even if a post is removed, one can easily edit and repost it again. Will social media be able to detect that and label a post within a short time? (Keller)\n",
    "3. Finally, will the creators of deceptive content accept their fault? They can easily deny as an attempt to obfuscate while asked by the social media. (Keller)\n",
    "\n",
    "\n",
    "### Who cares?\n",
    "Based on the current events of the world, we would assume that all people in the general public would care about this topic. The public is in a state of shock and is trying to get information to combat this terrifying virus. If the information they get is inaccurate then it could cause the public more harm and create more panic. \n",
    "\n",
    "Another audience that should worry more about this topic would be social media companies. Hopefully our analysis of the false information on the internet during this pandemic will bring awareness to these fake sites that only care about clicks.\n"
   ]
  },
  {
   "cell_type": "markdown",
   "metadata": {},
   "source": [
    "### Research Process:\n",
    "\n",
    "1. Scrape the Reddit API to get the posts related to COVID-19. \n",
    "2. Get fake news from subreddit \"Covid19Conspiracy.\"  \n",
    "3. Get some valid post about Coronavirus from trusted newspaper and channels. \n",
    "4. Check how many times one post is shared and get the graph out of it based on the speed of sharing. \n",
    "5. Check how many times a post is liked or disliked and compare those two. \n",
    "6. Show the ratio of verified information to misinformation on Reddit.\n",
    "7. Do a sentiment analysis on the fake news and compare that analysis with the CDC post sentiment analysis. \n",
    "8. What steps Reddit and some other social media has taken to slower the spread of misinformation (If someone search about Coronavirus on Reddit, it will automatically suggest you to the CDC webpage).\n",
    "9. Most importantly, we will be looking for a specific pattern that fake news sites follow.\n",
    "\n",
    "### Research Questionnaires to be Answered:\n",
    "1. By looking at the spread of misinformation and information graph, we will be able to answer how quickly misinformation and information spread throughout social media. Does it spread faster or slower than valid information? \n",
    "2. From the comparison between liked and disliked numbers, we can answer if people are supporting or trusting the fake news than valid news. Hpw many people are trusting fake sites? \n",
    "3. Sentimental analysis on both fake and valid posts will tell us how much positive or negative vibe they contain. Do they use certain type of wording or sentences?  \n",
    "4. If we can find any specific pattern that fake news sites follow, we can give some general advice to the public to be aware of the fake news. Using our research, they should be able to distinguish between fake and valid news. \n",
    "\n",
    " Even if our research will bring some awareness to public, the major responsibility still on social media platforms. They should be more willing to remove and restrict unreliable content. They should take action by disabling likes, shares and retweets for particular posts, and banning users who repeatedly misinform other. "
   ]
  },
  {
   "cell_type": "markdown",
   "metadata": {},
   "source": [
    "## Credit Listing:\n",
    "\n",
    "### Muskaan \n",
    "#### Phase 1: \n",
    "* Contribution towards project idea.\n",
    "* Reddit API data collection using subreddit \"Covid19Conspiracy\". Misinforamtion posts related to COVID-19. \n",
    "* Reddit API data collection from trusted newspaper and channels. Valid posts related to COVID-19.\n",
    "#### Phase 2: \n",
    "* Scrape more data \n",
    "* Contributed to visualization and analysis.\n",
    "* Plotted some graphs \n",
    "* Explained the code and the results. \n",
    "#### Phase 3: \n",
    "* Statistical Analysis based on the boxed plot from phase 2 \n",
    "* Supported the plot findings with statistical analysis\n",
    "* Contributed towards conclusion \n",
    "\n",
    "### Yesrat  \n",
    "#### Phase 1: \n",
    "* Contribution towards project idea.\n",
    "* Problem Statement, Description of the project topic, Research Process. \n",
    "* Challenges and limitations of the topic. \n",
    "* Research Questionnaires to be Answered.\n",
    "#### Phase 2: \n",
    "* Contributed to visualization and analysis. \n",
    "* Plotted some graphs \n",
    "* Explained the code and the results. \n",
    "#### Phase 3: \n",
    "* Used Afinn analyzer to get the most negative fake news and most positive fact news \n",
    "* Found the afinn_score to see how negative fake news are and how positive facts are \n",
    "* Credit Listing \n",
    "* Contributed towards conclusion \n",
    "### Yohannes  \n",
    "#### Phase 1: \n",
    "* Contribution towards project idea.\n",
    "* Who cares?\n",
    "* Detailed description of the data we gathered. \n",
    "* Description of how we processed it.\n",
    "#### Phase 2: \n",
    "* Contributed to visualization and analysis.\n",
    "* Plotted some graphs.\n",
    "* Explained the code and the results. \n",
    "#### Phase 3: \n",
    "* Contributed towards conclusion \n",
    "* Tried to get positive and negative words count for fake and fact news\n"
   ]
  },
  {
   "cell_type": "code",
   "execution_count": 49,
   "metadata": {},
   "outputs": [],
   "source": [
    "from os.path import isfile\n",
    "import praw\n",
    "import pandas as pd\n",
    "from time import sleep\n",
    "import json\n",
    "\n",
    "# loading credentials function\n",
    "def load_key(filename):\n",
    "    with open(filename) as f:\n",
    "        key_dict = json.load(f)\n",
    "    return key_dict"
   ]
  },
  {
   "cell_type": "code",
   "execution_count": 47,
   "metadata": {},
   "outputs": [],
   "source": [
    "#accessing search API\n",
    "key = load_key('../Redditkey.json')\n",
    "\n",
    "reddit = praw.Reddit(client_id = key['client_id'],\n",
    "                     client_secret = key['client_secret'],\n",
    "                     user_agent =key['user_agent'],\n",
    "                     username = key['username'], \n",
    "                     password =key['password']  ) \n"
   ]
  },
  {
   "cell_type": "markdown",
   "metadata": {},
   "source": [
    "Here, Reddit posts are being extracted that are known to be misinformation. <br/>\n",
    "In this for-loop, posts in the flair '⚠ Coronavirus ⚠'  are being stored. This flair has posts with questionable content suggesting they are fake news."
   ]
  },
  {
   "cell_type": "code",
   "execution_count": null,
   "metadata": {},
   "outputs": [],
   "source": [
    "from collections import defaultdict\n",
    "posts = defaultdict(list)\n",
    "\n",
    "progress = 0\n",
    "\n",
    "subreddit = reddit.subreddit('all')\n",
    "for sub in subreddit.search('flair:\"'+'⚠ Coronavirus ⚠'+'\"', limit=500):\n",
    "    if (progress %50 == 0):\n",
    "        print(progress, \"....done\")\n",
    "    if (sub.title not in  posts['Title']):\n",
    "        posts['Title'].append(sub.title) #post ID\n",
    "        posts[\"Author\"].append(sub.author) #author\n",
    "        posts[\"Created\"].append(str(sub.created).strip('.0')) #created date\n",
    "        posts[\"Comments\"].append(sub.num_comments) #number of comments\n",
    "        posts[\"Score\"].append(sub.score) #score\n",
    "        posts[\"Upvote\"].append(sub. upvote_ratio) #score\n",
    "        posts[\"Edited\"].append(sub.edited) #edited or not\n",
    "        posts[\"Url\"].append(sub.url) #link\n",
    "        posts[\"Body\"].append(sub.selftext) #post text\n",
    "    progress += 1\n"
   ]
  },
  {
   "cell_type": "markdown",
   "metadata": {},
   "source": [
    "Still searching all of Reddit, we are searching for the flair 'Coronavirus Conspiracy' which also has obviously fake information and far fetched truths."
   ]
  },
  {
   "cell_type": "code",
   "execution_count": null,
   "metadata": {},
   "outputs": [],
   "source": [
    "for sub in subreddit.search('flair_name:\"'+'Coronavirus Conspiracy'+'\"', limit=200):\n",
    "    if (progress %50 == 0):\n",
    "        print(progress, \"....done\")\n",
    "    if (sub.title not in  posts['Title']):\n",
    "        posts['Title'].append(sub.title) #post ID\n",
    "        posts[\"Author\"].append(sub.author) #author\n",
    "        posts[\"Created\"].append(str(sub.created).strip('.0')) #created date\n",
    "        posts[\"Comments\"].append(sub.num_comments) #number of comments\n",
    "        posts[\"Score\"].append(sub.score) #score\n",
    "        posts[\"Upvote\"].append(sub. upvote_ratio) #score\n",
    "        posts[\"Edited\"].append(sub.edited) #edited or not\n",
    "        posts[\"Url\"].append(sub.url) #link\n",
    "        posts[\"Body\"].append(sub.selftext) #post text\n",
    "    progress += 1"
   ]
  },
  {
   "cell_type": "markdown",
   "metadata": {},
   "source": [
    "Now we turn to popular and used reddit forums to get posts marked as misinformation there. <br/>\n",
    "The first flair we check is 'Rumor - Unconfirmed Source' to diversify our collected data. This will include posts that contain speculated and untrusted information. understanding these could lead to understanding how they lure in readers."
   ]
  },
  {
   "cell_type": "code",
   "execution_count": null,
   "metadata": {},
   "outputs": [],
   "source": [
    "subreddit = reddit.subreddit('China_Flu')\n",
    "for sub in subreddit.search('flair:\"'+'Rumor - Unconfirmed Source'+'\"', limit=500):\n",
    "    if (progress %50 == 0):\n",
    "        print(progress, \"....done\")\n",
    "    if (sub.title not in  posts['Title']):\n",
    "        posts['Title'].append(sub.title) #post ID\n",
    "        posts[\"Author\"].append(sub.author) #author\n",
    "        posts[\"Created\"].append(str(sub.created).strip('.0')) #created date\n",
    "        posts[\"Comments\"].append(sub.num_comments) #number of comments\n",
    "        posts[\"Score\"].append(sub.score) #score\n",
    "        posts[\"Upvote\"].append(sub. upvote_ratio) #score\n",
    "        posts[\"Edited\"].append(sub.edited) #edited or not\n",
    "        posts[\"Url\"].append(sub.url) #link\n",
    "        posts[\"Body\"].append(sub.selftext) #post text\n",
    "    progress += 1"
   ]
  },
  {
   "cell_type": "markdown",
   "metadata": {},
   "source": [
    "Another Reddit commnunity is Covid19Conspiracy. This is dedicated to conspiracy theories and false news relating to Coronavirus. "
   ]
  },
  {
   "cell_type": "code",
   "execution_count": null,
   "metadata": {},
   "outputs": [],
   "source": [
    "subreddit = reddit.subreddit('Covid19Conspiracy')\n",
    "for sub in subreddit.top(limit=200):\n",
    "    if (progress %50 == 0):\n",
    "        print(progress, \"....done\")\n",
    "    if (sub.title not in  posts['Title']):\n",
    "        posts['Title'].append(sub.title) #post ID\n",
    "        posts[\"Author\"].append(sub.author) #author\n",
    "        posts[\"Created\"].append(str(sub.created).strip('.0')) #created date\n",
    "        posts[\"Comments\"].append(sub.num_comments) #number of comments\n",
    "        posts[\"Score\"].append(sub.score) #score\n",
    "        posts[\"Upvote\"].append(sub. upvote_ratio) #score\n",
    "        posts[\"Edited\"].append(sub.edited) #edited or not\n",
    "        posts[\"Url\"].append(sub.url) #link\n",
    "        posts[\"Body\"].append(sub.selftext) #post text\n",
    "    progress += 1\n",
    "        \n",
    "import pandas\n",
    "misinfo = pandas.DataFrame(posts) #dataframe of data\n",
    "misinfo.shape\n",
    "        "
   ]
  },
  {
   "cell_type": "code",
   "execution_count": null,
   "metadata": {},
   "outputs": [],
   "source": [
    "#stroing misinfo in covid19conspiracy.csv file\n",
    "misinfo.body = misinfo.Body.map(lambda x: 'empty' if len(x)==0 else x)\n",
    "misinfo.to_csv('./covid19conspiracyUPDATE.csv', encoding='utf-8')"
   ]
  },
  {
   "cell_type": "markdown",
   "metadata": {},
   "source": [
    "Now we are extracting data from Reddit that is factual and trusted. <br/>\n",
    "We have created a list of trusted news sources in the trusted list below. This is used to cross reference any posts we collect to know it is valid information. <br/>\n",
    "For our first search, we looked at the subreddit Coronavirus which is a really popular community to discuss the pandemic. "
   ]
  },
  {
   "cell_type": "code",
   "execution_count": null,
   "metadata": {},
   "outputs": [],
   "source": [
    "#extracting data for factual information\n",
    "subreddit = reddit.subreddit('Coronavirus')\n",
    "\n",
    "from collections import defaultdict\n",
    "items = defaultdict(list)\n",
    "trusted = ['bbc.co.uk', 'usatoday.com', 'cnn.com', 'cnbc.com', 'washingtonpost.com',\n",
    "           'forbes.com', 'bloomberg.com', 'theguardian.com', 'foxnews.com', 'scientificamerican.com', \n",
    "           'espn.com','gov.uk', 'channelnewsasia.com', '.gov', 'hindustantimes.com', 'npr.org', '.org']\n",
    "def is_trusted(url):\n",
    "    for item in trusted:\n",
    "        if (item in url):\n",
    "            return True\n",
    "    return False\n",
    "progress = 0\n",
    "for sub in subreddit.top(limit=900):\n",
    "    if (progress %50 == 0):\n",
    "        print(progress, \"....done\")\n",
    "    if(is_trusted(sub.url) and sub.title not in items['Title'] ):\n",
    "        items['Title'].append(sub.title) #post ID\n",
    "        items[\"Author\"].append(sub.author) #author\n",
    "        items[\"Created\"].append(str(sub.created).strip('.0')) #created date\n",
    "        items[\"Comments\"].append(sub.num_comments) #number of comments\n",
    "        items[\"Score\"].append(sub.score) #score\n",
    "        items[\"Upvote\"].append(sub. upvote_ratio) #score\n",
    "        items[\"Edited\"].append(sub.edited) #edited or not\n",
    "        items[\"Url\"].append(sub.url) #link\n",
    "        items[\"Body\"].append(sub.selftext) #post text\n",
    "        progress += 1\n",
    "print(progress)"
   ]
  },
  {
   "cell_type": "markdown",
   "metadata": {},
   "source": [
    "We then looked at another Community. We tried to do this to get data from multiple sources and communities rather than just one. To ensure we didn't get the same posts twice, we double checked the post with the collected data."
   ]
  },
  {
   "cell_type": "code",
   "execution_count": null,
   "metadata": {},
   "outputs": [],
   "source": [
    "subreddit = reddit.subreddit('China_Flu')\n",
    "progress = 0\n",
    "#CDC / WHO\n",
    "for sub in subreddit.top(limit=900):\n",
    "    if (progress %50 == 0 and progress != 0):\n",
    "        print(progress, \"....done\")\n",
    "    if(is_trusted(sub.url) and sub.title not in items['Title']):\n",
    "        items['Title'].append(sub.title) #post ID\n",
    "        items[\"Author\"].append(sub.author) #author\n",
    "        items[\"Created\"].append(str(sub.created).strip('.0')) #created date\n",
    "        items[\"Comments\"].append(sub.num_comments) #number of comments\n",
    "        items[\"Score\"].append(sub.score) #score\n",
    "        items[\"Upvote\"].append(sub. upvote_ratio) #score\n",
    "        items[\"Edited\"].append(sub.edited) #edited or not\n",
    "        items[\"Url\"].append(sub.url) #link\n",
    "        items[\"Body\"].append(sub.selftext) #post text\n",
    "        progress += 1 \n",
    "print(progress)"
   ]
  },
  {
   "cell_type": "markdown",
   "metadata": {},
   "source": [
    "We are also getting posts from a community that is meant for the USA specifically"
   ]
  },
  {
   "cell_type": "code",
   "execution_count": null,
   "metadata": {},
   "outputs": [],
   "source": [
    "subreddit = reddit.subreddit('CoronavirusUS')\n",
    "progress = 0\n",
    "#CDC / WHO\n",
    "for sub in subreddit.top(limit=900):\n",
    "    if (progress %50 == 0 and progress != 0):\n",
    "        print(progress, \"....done\")\n",
    "    if(is_trusted(sub.url) and sub.title not in items['Title']):\n",
    "        items['Title'].append(sub.title) #post ID\n",
    "        items[\"Author\"].append(sub.author) #author\n",
    "        items[\"Created\"].append(str(sub.created).strip('.0')) #created date\n",
    "        items[\"Comments\"].append(sub.num_comments) #number of comments\n",
    "        items[\"Score\"].append(sub.score) #score\n",
    "        items[\"Upvote\"].append(sub. upvote_ratio) #score\n",
    "        items[\"Edited\"].append(sub.edited) #edited or not\n",
    "        items[\"Url\"].append(sub.url) #link\n",
    "        items[\"Body\"].append(sub.selftext) #post text\n",
    "        progress += 1\n",
    "print(progress)"
   ]
  },
  {
   "cell_type": "markdown",
   "metadata": {},
   "source": [
    "We are also getting posts from a community that is meant for the UK too"
   ]
  },
  {
   "cell_type": "code",
   "execution_count": null,
   "metadata": {},
   "outputs": [],
   "source": [
    "subreddit = reddit.subreddit('CoronavirusUK')\n",
    "progress = 0\n",
    "#CDC / WHO\n",
    "for sub in subreddit.top(limit=500):\n",
    "    if (progress %50 == 0 and progress != 0):\n",
    "        print(progress, \"....done\")\n",
    "    if(is_trusted(sub.url) and sub.title not in items['Title']):\n",
    "        items['Title'].append(sub.title) #post ID\n",
    "        items[\"Author\"].append(sub.author) #author\n",
    "        items[\"Created\"].append(str(sub.created).strip('.0')) #created date\n",
    "        items[\"Comments\"].append(sub.num_comments) #number of comments\n",
    "        items[\"Score\"].append(sub.score) #score\n",
    "        items[\"Upvote\"].append(sub. upvote_ratio) #score\n",
    "        items[\"Edited\"].append(sub.edited) #edited or not\n",
    "        items[\"Url\"].append(sub.url) #link\n",
    "        items[\"Body\"].append(sub.selftext) #post text\n",
    "        progress += 1\n",
    "print(progress)"
   ]
  },
  {
   "cell_type": "markdown",
   "metadata": {},
   "source": [
    "We are also getting data from another COVID 19 community"
   ]
  },
  {
   "cell_type": "code",
   "execution_count": null,
   "metadata": {},
   "outputs": [],
   "source": [
    "subreddit = reddit.subreddit('nCov')\n",
    "progress = 0\n",
    "#CDC / WHO\n",
    "for sub in subreddit.top(limit=900):\n",
    "    if (progress %50 == 0 and progress != 0):\n",
    "        print(progress, \"....done\")\n",
    "    if(is_trusted(sub.url) and sub.title not in items['Title']):\n",
    "        items['Title'].append(sub.title) #post ID\n",
    "        items[\"Author\"].append(sub.author) #author\n",
    "        items[\"Created\"].append(str(sub.created).strip('.0')) #created date\n",
    "        items[\"Comments\"].append(sub.num_comments) #number of comments\n",
    "        items[\"Score\"].append(sub.score) #score\n",
    "        items[\"Upvote\"].append(sub. upvote_ratio) #score\n",
    "        items[\"Edited\"].append(sub.edited) #edited or not\n",
    "        items[\"Url\"].append(sub.url) #link\n",
    "        items[\"Body\"].append(sub.selftext) #post text\n",
    "        progress += 1\n",
    "print(progress)\n",
    "print(\"Collection Complete!\")\n",
    "fact = pandas.DataFrame(items) #dataframe of data\n",
    "fact.shape"
   ]
  },
  {
   "cell_type": "code",
   "execution_count": null,
   "metadata": {},
   "outputs": [],
   "source": [
    "#stroing misinfo in covid19facts.csv file\n",
    "fact.body = fact.Body.map(lambda x: 'empty' if len(x)==0 else x)\n",
    "fact.to_csv('./covid19factsUPDATE.csv', encoding='utf-8')"
   ]
  },
  {
   "cell_type": "markdown",
   "metadata": {},
   "source": [
    "### Description of the Data Collected:\n",
    "For our initial data collection, we focused on collecting two major sets of data. The first is the example set of data\n",
    "for the misinformation on the internet. We collected this data from a reddit community called “Covid19Conspiracy”. This reddit group posts information and theories that are mostly either false or unverified. For each post in this group \n",
    "we collected nine attributes. These attributes include: The author, its score on reddit, its upvote percentage, whether \n",
    "or not the post has been edited, the url in the post, and the text in the post.\n",
    "\n",
    "The second set of data was for factual information on Covid-19. We collected the exact same attributes for each post as\n",
    "the previous data. However, for this data set we chose to get posts from the “Coronavirus” subreddit that had links to a few trusted links that we confirmed were verified. Once we collected both sets of data we put them into a dataframe and created two csv file with all the information. \n",
    "\"covid19facts.csv\" contains the verified information about Coronavirus. \n",
    "\"covid19conspiracy.csv\" contains the misinformation about Coronavirus. \n",
    "\n"
   ]
  },
  {
   "cell_type": "markdown",
   "metadata": {},
   "source": [
    "### Major Changes for Phase-2: \n",
    "#### Collection of Reddit Data \n",
    "1. For this part, we went back to our data scraping. This time, we were able to collect 391 valid information data and 528 misinformation data from Reddit. \n",
    "2. First of all, we get the posts from the flairs named '⚠ Coronavirus ⚠','Coronavirus Conspiracy' are being stored. These flairs have posts with questionable content suggesting they are fake news.\n",
    "3. Then we used popular and used reddit forms to get posts marked as misinformation. We got the data from 'Rumor - Unconfirmed Source.'\n",
    "4. Finally, we get data from valid sources such as known newspaper, channels and government organizations. Some of them are: bbc.co.uk', 'usatoday.com', 'cnn.com', 'cnbc.com', 'washingtonpost.com','forbes.com. We also scrape some data from 'CoronavirusUS' only for the United States and from 'CoronavirusUK' to know about other countries information. \n",
    "* We explained the code and visualization as we proceed. \n",
    "\n",
    "#### Things we tried but Failed for phase 2: \n",
    "* First, we perform VADER sentiment analysis on the data collected by us in the \"covid19factsUPDATE.csv,\" and 'covid19conspiracyUPDATE.csv' files. We generated positive, negative and neutral sentiment scores for all the titles of the posts. Then we did a plot distribution of the positive, neutral, and negative scores across the dataset.\n",
    "* We were excepting that there will be a huge difference between the facts and fake news titles; however, both the visualization graphs looked almost similar. So, we had to change our idea and come up with something new.\n",
    "\n",
    "### Major Changes for Phase-3: \n",
    "* For pahse 3, a two sample statistic test was conducted to claim that the positive and negative posts are different when it comes to fake and factual news.\n",
    "* We used AINN to analyze test corpus for occurance on any arbitary word list. We used it to see if fakenews has more negative words than facts. \n",
    "\n",
    "#### Things we tried but failed for phase 3: \n",
    "* We tried to do a text analysis based on counting the negative and positive word counts, but we failed to get the counts. \n",
    "* We also tried to use passive aggresive classifier to find the accuracy percentage of fakenews and facts. In order to do that, we need to label the fake news as fake news and facts as real news and combine the two data sets. We also failed to finish the task. \n",
    "* We also made a .txt file that contains the fake news body, and wanted to find the positive and negative word counts. Because mostly the fake news tend to have more negative vibes in them. But we were not sure how to compare the words with negative words, the most news do not have any body. \n"
   ]
  },
  {
   "cell_type": "markdown",
   "metadata": {},
   "source": [
    "## Future Goal: \n",
    "* For this part, we only tried some visualization and discussed our findings. Compared the results with fake news and actual news. \n",
    "* Our next goal is to use statics and support our findings. "
   ]
  },
  {
   "cell_type": "code",
   "execution_count": 27,
   "metadata": {},
   "outputs": [],
   "source": [
    "# Import all the things we need for the visualization\n",
    "from os.path import isfile\n",
    "import praw\n",
    "import matplotlib\n",
    "import matplotlib.pyplot as plt\n",
    "import pandas as pd\n",
    "from time import sleep\n",
    "from collections import defaultdict \n",
    "from vaderSentiment.vaderSentiment import SentimentIntensityAnalyzer\n",
    "import seaborn as sns\n",
    "import numpy as np"
   ]
  },
  {
   "cell_type": "code",
   "execution_count": 28,
   "metadata": {},
   "outputs": [
    {
     "data": {
      "text/plain": [
       "(391, 9)"
      ]
     },
     "execution_count": 28,
     "metadata": {},
     "output_type": "execute_result"
    }
   ],
   "source": [
    "# opens misinformation CSV file\n",
    "import csv\n",
    "orig = pd.read_csv('covid19factsUPDATE.csv')\n",
    "facts = orig.drop(columns=['Unnamed: 0'])\n",
    "facts.shape"
   ]
  },
  {
   "cell_type": "code",
   "execution_count": 29,
   "metadata": {},
   "outputs": [
    {
     "data": {
      "text/plain": [
       "(528, 9)"
      ]
     },
     "execution_count": 29,
     "metadata": {},
     "output_type": "execute_result"
    }
   ],
   "source": [
    "# opens factual CSV file\n",
    "orig = pd.read_csv('covid19conspiracyUPDATE.csv')\n",
    "fakenews = orig.drop(columns=['Unnamed: 0'])\n",
    "fakenews.shape "
   ]
  },
  {
   "cell_type": "code",
   "execution_count": 30,
   "metadata": {},
   "outputs": [
    {
     "name": "stdout",
     "output_type": "stream",
     "text": [
      "117\n"
     ]
    }
   ],
   "source": [
    "# Checking the body of the fakenews and how many are there. \n",
    "# We didn't use the body of fakenews yet, but will look forward to use it \n",
    "p = 0\n",
    "for i in fakenews.Body:\n",
    "    if str(i) != 'nan':\n",
    "        #print(i)\n",
    "        p+=1\n",
    "print(p)"
   ]
  },
  {
   "cell_type": "markdown",
   "metadata": {},
   "source": [
    "### Code Documentation: \n",
    "1.\tCreated a function which takes three parameters pos, neg, and neu. They are the positive, negative, and neutral sentiment values of the title of the posts collected. \n",
    "2.\tIf the positive value is greater than the negative value, return the positive value. If the value if equal to zero, change the value to zero. \n",
    "3.\tDo the same for negative value. \n",
    "4.\tAfter the comparison, we define two new function that takes the new positive and negative values. If the new positive value is greater than the negative value return the positive else return the negative value. \n",
    "\n"
   ]
  },
  {
   "cell_type": "code",
   "execution_count": 31,
   "metadata": {},
   "outputs": [],
   "source": [
    "def get_sentiment(pos, neg, neu):\n",
    "    if (pos > neg):\n",
    "        if (pos == 0):\n",
    "            return float('nan')\n",
    "        return pos\n",
    "    if (neg > pos):\n",
    "        if (neg == 0):\n",
    "            return float('nan')\n",
    "        return neg*-1\n",
    "def fix_pos(pos, neg):\n",
    "    if pos > neg:\n",
    "        return pos\n",
    "def fix_neg(pos, neg):\n",
    "    if neg > pos:\n",
    "        return neg"
   ]
  },
  {
   "cell_type": "markdown",
   "metadata": {},
   "source": [
    "### Code Documentation: \n",
    "* Created a dictionary with the positive, negative, neutral values, fake news titles, changed sentiment values, and upvote of the actual data frame, and converted to a data frame of fake news. \n"
   ]
  },
  {
   "cell_type": "code",
   "execution_count": 32,
   "metadata": {
    "scrolled": true
   },
   "outputs": [
    {
     "data": {
      "text/html": [
       "<div>\n",
       "<style scoped>\n",
       "    .dataframe tbody tr th:only-of-type {\n",
       "        vertical-align: middle;\n",
       "    }\n",
       "\n",
       "    .dataframe tbody tr th {\n",
       "        vertical-align: top;\n",
       "    }\n",
       "\n",
       "    .dataframe thead th {\n",
       "        text-align: right;\n",
       "    }\n",
       "</style>\n",
       "<table border=\"1\" class=\"dataframe\">\n",
       "  <thead>\n",
       "    <tr style=\"text-align: right;\">\n",
       "      <th></th>\n",
       "      <th>pos</th>\n",
       "      <th>neu</th>\n",
       "      <th>neg</th>\n",
       "      <th>Fakenews_Title</th>\n",
       "      <th>Sentiment</th>\n",
       "      <th>Upvote</th>\n",
       "    </tr>\n",
       "  </thead>\n",
       "  <tbody>\n",
       "    <tr>\n",
       "      <td>0</td>\n",
       "      <td>NaN</td>\n",
       "      <td>0.698</td>\n",
       "      <td>0.302</td>\n",
       "      <td>WATCH: Candace Owens Destroys Leftist Narrativ...</td>\n",
       "      <td>-0.302</td>\n",
       "      <td>0.67</td>\n",
       "    </tr>\n",
       "    <tr>\n",
       "      <td>1</td>\n",
       "      <td>0.119</td>\n",
       "      <td>0.881</td>\n",
       "      <td>NaN</td>\n",
       "      <td>The UN Is Now Admitting That This Coronavirus ...</td>\n",
       "      <td>0.119</td>\n",
       "      <td>1.00</td>\n",
       "    </tr>\n",
       "    <tr>\n",
       "      <td>2</td>\n",
       "      <td>NaN</td>\n",
       "      <td>1.000</td>\n",
       "      <td>NaN</td>\n",
       "      <td>YouTube Takes Down Bio-Tech Firm’s Video Expla...</td>\n",
       "      <td>NaN</td>\n",
       "      <td>1.00</td>\n",
       "    </tr>\n",
       "    <tr>\n",
       "      <td>3</td>\n",
       "      <td>NaN</td>\n",
       "      <td>0.621</td>\n",
       "      <td>0.255</td>\n",
       "      <td>Israel To Have Two Heads Of State While Corona...</td>\n",
       "      <td>-0.255</td>\n",
       "      <td>1.00</td>\n",
       "    </tr>\n",
       "    <tr>\n",
       "      <td>4</td>\n",
       "      <td>NaN</td>\n",
       "      <td>1.000</td>\n",
       "      <td>NaN</td>\n",
       "      <td>“So It Was a Hoax?” – Fox News’ John Roberts C...</td>\n",
       "      <td>NaN</td>\n",
       "      <td>1.00</td>\n",
       "    </tr>\n",
       "    <tr>\n",
       "      <td>...</td>\n",
       "      <td>...</td>\n",
       "      <td>...</td>\n",
       "      <td>...</td>\n",
       "      <td>...</td>\n",
       "      <td>...</td>\n",
       "      <td>...</td>\n",
       "    </tr>\n",
       "    <tr>\n",
       "      <td>523</td>\n",
       "      <td>0.286</td>\n",
       "      <td>0.714</td>\n",
       "      <td>NaN</td>\n",
       "      <td>HOW TO MAKE YOUR OWN COVID19 DISINFECT HAND GEL</td>\n",
       "      <td>0.286</td>\n",
       "      <td>0.67</td>\n",
       "    </tr>\n",
       "    <tr>\n",
       "      <td>524</td>\n",
       "      <td>NaN</td>\n",
       "      <td>1.000</td>\n",
       "      <td>NaN</td>\n",
       "      <td>176 new confirmed cases in The Netherlands tod...</td>\n",
       "      <td>NaN</td>\n",
       "      <td>0.67</td>\n",
       "    </tr>\n",
       "    <tr>\n",
       "      <td>525</td>\n",
       "      <td>NaN</td>\n",
       "      <td>1.000</td>\n",
       "      <td>NaN</td>\n",
       "      <td>Asymptomatic transmission happens.</td>\n",
       "      <td>NaN</td>\n",
       "      <td>0.67</td>\n",
       "    </tr>\n",
       "    <tr>\n",
       "      <td>526</td>\n",
       "      <td>NaN</td>\n",
       "      <td>1.000</td>\n",
       "      <td>NaN</td>\n",
       "      <td>155 New infections in The Netherlands today, b...</td>\n",
       "      <td>NaN</td>\n",
       "      <td>0.67</td>\n",
       "    </tr>\n",
       "    <tr>\n",
       "      <td>527</td>\n",
       "      <td>NaN</td>\n",
       "      <td>0.790</td>\n",
       "      <td>0.210</td>\n",
       "      <td>Coronavirus Update - New Measurements In The N...</td>\n",
       "      <td>-0.210</td>\n",
       "      <td>0.60</td>\n",
       "    </tr>\n",
       "  </tbody>\n",
       "</table>\n",
       "<p>528 rows × 6 columns</p>\n",
       "</div>"
      ],
      "text/plain": [
       "       pos    neu    neg                                     Fakenews_Title  \\\n",
       "0      NaN  0.698  0.302  WATCH: Candace Owens Destroys Leftist Narrativ...   \n",
       "1    0.119  0.881    NaN  The UN Is Now Admitting That This Coronavirus ...   \n",
       "2      NaN  1.000    NaN  YouTube Takes Down Bio-Tech Firm’s Video Expla...   \n",
       "3      NaN  0.621  0.255  Israel To Have Two Heads Of State While Corona...   \n",
       "4      NaN  1.000    NaN  “So It Was a Hoax?” – Fox News’ John Roberts C...   \n",
       "..     ...    ...    ...                                                ...   \n",
       "523  0.286  0.714    NaN    HOW TO MAKE YOUR OWN COVID19 DISINFECT HAND GEL   \n",
       "524    NaN  1.000    NaN  176 new confirmed cases in The Netherlands tod...   \n",
       "525    NaN  1.000    NaN                 Asymptomatic transmission happens.   \n",
       "526    NaN  1.000    NaN  155 New infections in The Netherlands today, b...   \n",
       "527    NaN  0.790  0.210  Coronavirus Update - New Measurements In The N...   \n",
       "\n",
       "     Sentiment  Upvote  \n",
       "0       -0.302    0.67  \n",
       "1        0.119    1.00  \n",
       "2          NaN    1.00  \n",
       "3       -0.255    1.00  \n",
       "4          NaN    1.00  \n",
       "..         ...     ...  \n",
       "523      0.286    0.67  \n",
       "524        NaN    0.67  \n",
       "525        NaN    0.67  \n",
       "526        NaN    0.67  \n",
       "527     -0.210    0.60  \n",
       "\n",
       "[528 rows x 6 columns]"
      ]
     },
     "execution_count": 32,
     "metadata": {},
     "output_type": "execute_result"
    }
   ],
   "source": [
    "# Create post title dictionary to store positive, negative, and neutral sentiments.\n",
    "\n",
    "title_list1 = fakenews[\"Title\"].to_list()\n",
    "\n",
    "title_dict1 = defaultdict(list)\n",
    "analyzer = SentimentIntensityAnalyzer()\n",
    "#Checks if the titles are in the list \n",
    "for title in title_list1:\n",
    "    vs = analyzer.polarity_scores(title)\n",
    "    title_dict1[\"pos\"].append( fix_pos(vs[\"pos\"],vs[\"neg\"]))\n",
    "    title_dict1[\"neu\"].append(vs[\"neu\"])\n",
    "    title_dict1[\"neg\"].append( fix_neg(vs[\"pos\"],vs[\"neg\"]))\n",
    "    title_dict1[\"Fakenews_Title\"].append(title)\n",
    "    title_dict1[\"Sentiment\"].append(get_sentiment(vs[\"pos\"],vs[\"neg\"], vs[\"neu\"]))\n",
    "title_dict1[\"Upvote\"] = fakenews.Upvote\n",
    "title_data_fakenews = pd.DataFrame(title_dict1)\n",
    "title_data_fakenews"
   ]
  },
  {
   "cell_type": "markdown",
   "metadata": {},
   "source": [
    "### Code Documentation: \n",
    "* Created a dictionary with the positive, negative, neutral values, valid news titles, changed sentiment values, and upvote of the actual data frame, and converted to a data frame of facts. "
   ]
  },
  {
   "cell_type": "code",
   "execution_count": 33,
   "metadata": {},
   "outputs": [
    {
     "data": {
      "text/html": [
       "<div>\n",
       "<style scoped>\n",
       "    .dataframe tbody tr th:only-of-type {\n",
       "        vertical-align: middle;\n",
       "    }\n",
       "\n",
       "    .dataframe tbody tr th {\n",
       "        vertical-align: top;\n",
       "    }\n",
       "\n",
       "    .dataframe thead th {\n",
       "        text-align: right;\n",
       "    }\n",
       "</style>\n",
       "<table border=\"1\" class=\"dataframe\">\n",
       "  <thead>\n",
       "    <tr style=\"text-align: right;\">\n",
       "      <th></th>\n",
       "      <th>pos</th>\n",
       "      <th>neu</th>\n",
       "      <th>neg</th>\n",
       "      <th>Facts_Title</th>\n",
       "      <th>Sentiment</th>\n",
       "      <th>Upvote</th>\n",
       "    </tr>\n",
       "  </thead>\n",
       "  <tbody>\n",
       "    <tr>\n",
       "      <td>0</td>\n",
       "      <td>NaN</td>\n",
       "      <td>1.000</td>\n",
       "      <td>NaN</td>\n",
       "      <td>Mark Cuban says bailed out companies should ne...</td>\n",
       "      <td>NaN</td>\n",
       "      <td>0.94</td>\n",
       "    </tr>\n",
       "    <tr>\n",
       "      <td>1</td>\n",
       "      <td>NaN</td>\n",
       "      <td>1.000</td>\n",
       "      <td>NaN</td>\n",
       "      <td>White House advisor Dr. Fauci works 20-hour da...</td>\n",
       "      <td>NaN</td>\n",
       "      <td>0.93</td>\n",
       "    </tr>\n",
       "    <tr>\n",
       "      <td>2</td>\n",
       "      <td>NaN</td>\n",
       "      <td>0.686</td>\n",
       "      <td>0.216</td>\n",
       "      <td>Bill Gates says the US missed its chance to av...</td>\n",
       "      <td>-0.216</td>\n",
       "      <td>0.89</td>\n",
       "    </tr>\n",
       "    <tr>\n",
       "      <td>3</td>\n",
       "      <td>NaN</td>\n",
       "      <td>0.773</td>\n",
       "      <td>0.227</td>\n",
       "      <td>For the first time in US history, every state ...</td>\n",
       "      <td>-0.227</td>\n",
       "      <td>0.94</td>\n",
       "    </tr>\n",
       "    <tr>\n",
       "      <td>4</td>\n",
       "      <td>NaN</td>\n",
       "      <td>0.618</td>\n",
       "      <td>0.265</td>\n",
       "      <td>Just a reminder that during the Ebola crisis D...</td>\n",
       "      <td>-0.265</td>\n",
       "      <td>0.93</td>\n",
       "    </tr>\n",
       "    <tr>\n",
       "      <td>...</td>\n",
       "      <td>...</td>\n",
       "      <td>...</td>\n",
       "      <td>...</td>\n",
       "      <td>...</td>\n",
       "      <td>...</td>\n",
       "      <td>...</td>\n",
       "    </tr>\n",
       "    <tr>\n",
       "      <td>386</td>\n",
       "      <td>NaN</td>\n",
       "      <td>1.000</td>\n",
       "      <td>NaN</td>\n",
       "      <td>U.S. Officials Link COVID-19 Disinformation Ca...</td>\n",
       "      <td>NaN</td>\n",
       "      <td>0.93</td>\n",
       "    </tr>\n",
       "    <tr>\n",
       "      <td>387</td>\n",
       "      <td>NaN</td>\n",
       "      <td>0.687</td>\n",
       "      <td>0.313</td>\n",
       "      <td>Coronavirus Crisis Disrupting Flow of Mail Int...</td>\n",
       "      <td>-0.313</td>\n",
       "      <td>1.00</td>\n",
       "    </tr>\n",
       "    <tr>\n",
       "      <td>388</td>\n",
       "      <td>NaN</td>\n",
       "      <td>1.000</td>\n",
       "      <td>NaN</td>\n",
       "      <td>American Man With Coronavirus Dies At Hospital...</td>\n",
       "      <td>NaN</td>\n",
       "      <td>0.93</td>\n",
       "    </tr>\n",
       "    <tr>\n",
       "      <td>389</td>\n",
       "      <td>NaN</td>\n",
       "      <td>1.000</td>\n",
       "      <td>NaN</td>\n",
       "      <td>How Coronaviruses Cause Infection--from Colds ...</td>\n",
       "      <td>NaN</td>\n",
       "      <td>1.00</td>\n",
       "    </tr>\n",
       "    <tr>\n",
       "      <td>390</td>\n",
       "      <td>NaN</td>\n",
       "      <td>1.000</td>\n",
       "      <td>NaN</td>\n",
       "      <td>Update: King County COVID-19 case numbers for ...</td>\n",
       "      <td>NaN</td>\n",
       "      <td>1.00</td>\n",
       "    </tr>\n",
       "  </tbody>\n",
       "</table>\n",
       "<p>391 rows × 6 columns</p>\n",
       "</div>"
      ],
      "text/plain": [
       "     pos    neu    neg                                        Facts_Title  \\\n",
       "0    NaN  1.000    NaN  Mark Cuban says bailed out companies should ne...   \n",
       "1    NaN  1.000    NaN  White House advisor Dr. Fauci works 20-hour da...   \n",
       "2    NaN  0.686  0.216  Bill Gates says the US missed its chance to av...   \n",
       "3    NaN  0.773  0.227  For the first time in US history, every state ...   \n",
       "4    NaN  0.618  0.265  Just a reminder that during the Ebola crisis D...   \n",
       "..   ...    ...    ...                                                ...   \n",
       "386  NaN  1.000    NaN  U.S. Officials Link COVID-19 Disinformation Ca...   \n",
       "387  NaN  0.687  0.313  Coronavirus Crisis Disrupting Flow of Mail Int...   \n",
       "388  NaN  1.000    NaN  American Man With Coronavirus Dies At Hospital...   \n",
       "389  NaN  1.000    NaN  How Coronaviruses Cause Infection--from Colds ...   \n",
       "390  NaN  1.000    NaN  Update: King County COVID-19 case numbers for ...   \n",
       "\n",
       "     Sentiment  Upvote  \n",
       "0          NaN    0.94  \n",
       "1          NaN    0.93  \n",
       "2       -0.216    0.89  \n",
       "3       -0.227    0.94  \n",
       "4       -0.265    0.93  \n",
       "..         ...     ...  \n",
       "386        NaN    0.93  \n",
       "387     -0.313    1.00  \n",
       "388        NaN    0.93  \n",
       "389        NaN    1.00  \n",
       "390        NaN    1.00  \n",
       "\n",
       "[391 rows x 6 columns]"
      ]
     },
     "execution_count": 33,
     "metadata": {},
     "output_type": "execute_result"
    }
   ],
   "source": [
    "\n",
    "title_list = facts[\"Title\"].to_list()\n",
    "title_list\n",
    "title_dict = defaultdict(list)\n",
    "analyzer = SentimentIntensityAnalyzer()\n",
    "for title in title_list:\n",
    "    vs = analyzer.polarity_scores(title)\n",
    "    title_dict[\"pos\"].append( fix_pos(vs[\"pos\"],vs[\"neg\"]))\n",
    "    title_dict[\"neu\"].append(vs[\"neu\"])\n",
    "    title_dict[\"neg\"].append( fix_neg(vs[\"pos\"],vs[\"neg\"]))\n",
    "    title_dict[\"Facts_Title\"].append(title)\n",
    "    title_dict[\"Sentiment\"].append(get_sentiment(vs[\"pos\"],vs[\"neg\"], vs[\"neu\"]))\n",
    "title_dict[\"Upvote\"] = facts.Upvote\n",
    "title_data_facts = pd.DataFrame(title_dict)\n",
    "title_data_facts\n"
   ]
  },
  {
   "cell_type": "markdown",
   "metadata": {},
   "source": [
    "### Visialization and Analization: \n",
    "* Here, we did two plots based on the sentiments of the fake news and actual news titles. \n",
    "* The blue plot is for factual news, and the orange on is for fake news. \n",
    "* From looking at both plot, not many differences can be pointed. For both graph, both postive and negative values are almost evenly distributed. Which means that, both fake news and actual news tend to have postive and negative reactions to it. "
   ]
  },
  {
   "cell_type": "code",
   "execution_count": 34,
   "metadata": {},
   "outputs": [
    {
     "data": {
      "text/plain": [
       "<matplotlib.legend.Legend at 0x20988629c88>"
      ]
     },
     "execution_count": 34,
     "metadata": {},
     "output_type": "execute_result"
    },
    {
     "data": {
      "image/png": "[encoded data removed]",
      "text/plain": [
       "<Figure size 432x288 with 1 Axes>"
      ]
     },
     "metadata": {
      "needs_background": "light"
     },
     "output_type": "display_data"
    }
   ],
   "source": [
    "ax = title_data_facts.Sentiment.plot.kde(label='factual')\n",
    "title_data_fakenews.Sentiment.plot.kde(label='misinformation')\n",
    "ax.legend()"
   ]
  },
  {
   "cell_type": "markdown",
   "metadata": {},
   "source": [
    "### Code Visualization: \n",
    "* Here, we did two box plots based on the positive and negative sentiments of titles. The analysis is given after the plots. "
   ]
  },
  {
   "cell_type": "code",
   "execution_count": 35,
   "metadata": {},
   "outputs": [
    {
     "data": {
      "text/plain": [
       "(0, 1)"
      ]
     },
     "execution_count": 35,
     "metadata": {},
     "output_type": "execute_result"
    },
    {
     "data": {
      "image/png": "[encoded data removed]",
      "text/plain": [
       "<Figure size 432x288 with 1 Axes>"
      ]
     },
     "metadata": {
      "needs_background": "light"
     },
     "output_type": "display_data"
    }
   ],
   "source": [
    "ax = title_data_fakenews.boxplot(column=['pos','neg'], vert=False)\n",
    "ax.set_xlim(0,1)"
   ]
  },
  {
   "cell_type": "code",
   "execution_count": 36,
   "metadata": {
    "scrolled": true
   },
   "outputs": [
    {
     "data": {
      "text/plain": [
       "(0, 1)"
      ]
     },
     "execution_count": 36,
     "metadata": {},
     "output_type": "execute_result"
    },
    {
     "data": {
      "image/png": "[encoded data removed]",
      "text/plain": [
       "<Figure size 432x288 with 1 Axes>"
      ]
     },
     "metadata": {
      "needs_background": "light"
     },
     "output_type": "display_data"
    }
   ],
   "source": [
    "ax = title_data_facts.boxplot(column=['pos','neg'], vert=False)\n",
    "ax.set_xlim(0,1)"
   ]
  },
  {
   "cell_type": "markdown",
   "metadata": {},
   "source": [
    "###  Analysis and Findings from the Plots: \n",
    "* We started off by trying to understand whether Coronavirus misinformation follows the same trends as other misinformation? Usually fake news titles have extreme statements to convince people to click on them. The goal here is to determine if Coronavirus fake news follows the same patterns. \n",
    "* A sentiment analysis of the titles in the misinformation data was performed. Then, the negative posts distribution was plotted against the positive posts distribution. In this boxplot, the negative boxplot marks the distribution of the negatively associated posts, and the positive boxplot, the positive. \n",
    "* We have also performed a sentiment analysis on the titles of the factual posts data, and plotted their distributions. \n",
    "* When comparing the positive and negative distributions of the misinformation data, we see that the negative posts seem to be skewed more to the right than the positive posts. This suggests that the negative posts tend to be more extremely negative than the positive posts are positive. Looking at the information data, this seems to be consistent too. Negative posts are more negative. The major difference in the boxplots between the two datasets is that the distribution of both the positive and negative is more extreme in the misinformation dataset than the distribution of the factual news dataset. \n",
    "* This suggests that while fake news tends to exaggerate the titles more than it does the truth. Coronavirus misinformation is in line with the trend of most misinformation."
   ]
  },
  {
   "cell_type": "markdown",
   "metadata": {},
   "source": [
    "### Statistical Analysis"
   ]
  },
  {
   "cell_type": "markdown",
   "metadata": {},
   "source": [
    "A two sample statistic test was conducted to claim that the positive and negative posts are different when it comes to fake and factual news. "
   ]
  },
  {
   "cell_type": "markdown",
   "metadata": {},
   "source": [
    "### Code Explaination \n",
    "First, the positive posts were taken from both the misinformation posts and factual posts. \n",
    "\n",
    "Here are the hypothesis that were tested at the significance level of 0.05:\n",
    "\n",
    "* P(fakenews) = positive posts in fake news\n",
    "* P(facts) = positive posts in factual news\n",
    "\n",
    "Null Hypothesis: P(fakenews) = P (facts) <br>\n",
    "Alternative Hypothesis:  P(fakenews) != P (facts)"
   ]
  },
  {
   "cell_type": "code",
   "execution_count": 47,
   "metadata": {},
   "outputs": [
    {
     "data": {
      "text/plain": [
       "0.0024937230769817562"
      ]
     },
     "execution_count": 47,
     "metadata": {},
     "output_type": "execute_result"
    }
   ],
   "source": [
    "import scipy.stats as sc\n",
    "stat_pos, p_val_pos = sc.ttest_ind(title_data_fakenews['pos'], title_data_facts['pos'], equal_var=True, nan_policy='omit' )\n",
    "p_val_pos"
   ]
  },
  {
   "cell_type": "markdown",
   "metadata": {},
   "source": [
    "### Findings and Analysis: \n",
    "Since P-value = 0.00249 < 0.05, the null hypothesis must be rejected and the positive posts in the fake news are different from the ones in the factual news."
   ]
  },
  {
   "cell_type": "markdown",
   "metadata": {},
   "source": [
    "### Code Explaination: \n",
    "Also, the negative posts were taken from both the misinformation posts and factual posts.\n",
    "\n",
    "Here are the hypothesis that were tested at the significance level of 0.05:\n",
    "\n",
    "N(fakenews) = positive posts in fake news\n",
    "N(facts) = positive posts in factual news\n",
    "Null Hypothesis: N(fakenews) = N (facts)\n",
    "Alternative Hypothesis: N(fakenews) != N (facts)"
   ]
  },
  {
   "cell_type": "code",
   "execution_count": 48,
   "metadata": {},
   "outputs": [
    {
     "data": {
      "text/plain": [
       "7.495705045699112e-06"
      ]
     },
     "execution_count": 48,
     "metadata": {},
     "output_type": "execute_result"
    }
   ],
   "source": [
    "stat_neg, p_val_neg  = sc.ttest_ind(title_data_fakenews['neg'], title_data_facts['neg'], equal_var=True, nan_policy='omit' )\n",
    "p_val_neg"
   ]
  },
  {
   "cell_type": "markdown",
   "metadata": {},
   "source": [
    "### Findings and Analysis: \n",
    "Since P-value = 7.5 * 10-6 < 0.05, the null hypothesis must be rejected and the negative posts in the fake news are different from the ones in the factual news."
   ]
  },
  {
   "cell_type": "markdown",
   "metadata": {},
   "source": [
    "###  Analysis and Findings from the Plots: \n",
    "* We started off by trying to understand whether Coronavirus misinformation follows the same trends as other misinformation? Usually fake news titles have extreme statements to convince people to click on them. The goal here is to determine if Coronavirus fake news follows the same patterns. \n",
    "* A sentiment analysis of the titles in the misinformation data was performed. Then, the negative posts distribution was plotted against the positive posts distribution. In this boxplot, the negative boxplot marks the distribution of the negatively associated posts, and the positive boxplot, the positive. \n",
    "* We have also performed a sentiment analysis on the titles of the factual posts data, and plotted their distributions. \n",
    "* When comparing the positive and negative distributions of the misinformation data, we see that the negative posts seem to be skewed more to the right than the positive posts. This suggests that the negative posts tend to be more extremely negative than the positive posts are positive. Looking at the information data, this seems to be consistent too. Negative posts are more negative. The major difference in the boxplots between the two datasets is that the distribution of both the positive and negative is more extreme in the misinformation dataset than the distribution of the factual news dataset. \n",
    "* This suggests that while fake news tends to exaggerate the titles more than it does the truth. Coronavirus misinformation is in line with the trend of most misinformation."
   ]
  },
  {
   "cell_type": "markdown",
   "metadata": {},
   "source": [
    "### Visualization between Sentiment and Upvote: \n",
    "* We created two sctter plots between sentiment of title and Upvote based on the fake news and actual news.\n",
    "  The analysis is given after the plots. "
   ]
  },
  {
   "cell_type": "code",
   "execution_count": 49,
   "metadata": {},
   "outputs": [
    {
     "data": {
      "text/plain": [
       "<matplotlib.axes._subplots.AxesSubplot at 0x20988c6fa08>"
      ]
     },
     "execution_count": 49,
     "metadata": {},
     "output_type": "execute_result"
    },
    {
     "data": {
      "image/png": "[encoded data removed]",
      "text/plain": [
       "<Figure size 504x504 with 1 Axes>"
      ]
     },
     "metadata": {
      "needs_background": "light"
     },
     "output_type": "display_data"
    }
   ],
   "source": [
    "# Plot for facts \n",
    "title_data_facts.plot.scatter(x='Sentiment', y='Upvote', xlim=(-1,1), ylim=(0,1), figsize=(7,7))"
   ]
  },
  {
   "cell_type": "code",
   "execution_count": 50,
   "metadata": {},
   "outputs": [
    {
     "data": {
      "text/plain": [
       "<matplotlib.axes._subplots.AxesSubplot at 0x20988ccbbc8>"
      ]
     },
     "execution_count": 50,
     "metadata": {},
     "output_type": "execute_result"
    },
    {
     "data": {
      "image/png": "[encoded data removed]",
      "text/plain": [
       "<Figure size 504x504 with 1 Axes>"
      ]
     },
     "metadata": {
      "needs_background": "light"
     },
     "output_type": "display_data"
    }
   ],
   "source": [
    "# Plot for fake news \n",
    "title_data_fakenews.plot.scatter(x='Sentiment', y='Upvote',  xlim=(-1,1), ylim=(0,1), figsize=(7,7))"
   ]
  },
  {
   "cell_type": "markdown",
   "metadata": {},
   "source": [
    "### Plot Analysis and Findings: \n",
    "* From the two plots above, there are two clusters formed. One for the slightly positive values, and one for slightly negative values.\n",
    "* We can see that for the fake news, the dots are more distributed than the actual news dots.\n",
    "* For example, if the upvote ratio is .5, this means 50 people liked the post, and 50 people disliked the post.\n",
    "* For the slightly negative value, the upvotes are less distributed than the positive side. Which means that people are responding more strongly to the posts that has negative connotations. People are less likely to like the posts that are misinformation and are able to figure the difference between fake and actual news.  \n",
    "\n"
   ]
  },
  {
   "cell_type": "markdown",
   "metadata": {},
   "source": [
    "### Code Explanation: \n",
    "* Here, we visualize a scatter plot based on comments and upvote of fake news. It shows the relationship between the number of comments on a post and its upvote ratio. The findings are described after the plot. "
   ]
  },
  {
   "cell_type": "code",
   "execution_count": 51,
   "metadata": {},
   "outputs": [
    {
     "data": {
      "text/plain": [
       "Text(0, 0.5, 'Upvote Ratio')"
      ]
     },
     "execution_count": 51,
     "metadata": {},
     "output_type": "execute_result"
    },
    {
     "data": {
      "image/png": "[encoded data removed]",
      "text/plain": [
       "<Figure size 720x720 with 2 Axes>"
      ]
     },
     "metadata": {
      "needs_background": "light"
     },
     "output_type": "display_data"
    }
   ],
   "source": [
    "i = fakenews.Comments\n",
    "u = fakenews.Upvote\n",
    "\n",
    "p = fakenews.plot.scatter(x='Comments', y='Upvote', \n",
    "                    c = 'red', \n",
    "                    colormap=plt.cm.copper, \n",
    "                    figsize=(10,10), \n",
    "                    alpha=0.5,\n",
    "                    sharex=False) \n",
    "\n",
    "p.set_xlabel(\"Number of Comments\", fontsize=16)\n",
    "p.set_ylabel(\"Upvote Ratio\", fontsize=16)"
   ]
  },
  {
   "cell_type": "markdown",
   "metadata": {},
   "source": [
    "### Analysis and Findings: \n",
    "* The hypothesis we wanted to test is whether divisive posts cause more interactions with posts on reddit. \n",
    "* Based on the graph, we can conclude that our hypothesis is incorrect and that people ignore posts that don't make sense.\n",
    "* These posts were found in a subreddit that posts conspiracies on COVID-19. \n"
   ]
  },
  {
   "cell_type": "markdown",
   "metadata": {},
   "source": [
    "### Code Deocumentation: \n",
    "* Here, we visualize another scatter plot based on comments and score of fake news. The x label is marked as \"Number of \n",
    "    comments\" and y axis is labeled as \"Total Score on Reddit.\" "
   ]
  },
  {
   "cell_type": "code",
   "execution_count": 52,
   "metadata": {},
   "outputs": [
    {
     "data": {
      "text/plain": [
       "Text(0, 0.5, 'Total Score on Reddit')"
      ]
     },
     "execution_count": 52,
     "metadata": {},
     "output_type": "execute_result"
    },
    {
     "data": {
      "image/png": "[encoded data removed]",
      "text/plain": [
       "<Figure size 720x720 with 2 Axes>"
      ]
     },
     "metadata": {
      "needs_background": "light"
     },
     "output_type": "display_data"
    }
   ],
   "source": [
    "k = fakenews.plot.scatter(x='Comments', y='Score', \n",
    "                    c = 'red', #color\n",
    "                    colormap=plt.cm.copper, \n",
    "                    figsize=(10,10), \n",
    "                    alpha=0.5,\n",
    "                    sharex=False) \n",
    "k.set_xlabel(\"Number of Comments\", fontsize=16)\n",
    "k.set_ylabel(\"Total Score on Reddit\", fontsize=16)\n"
   ]
  },
  {
   "cell_type": "markdown",
   "metadata": {},
   "source": [
    "### Analysis and Findings: \n",
    "* This is scatterplot is also testing the hypothesis from before. It also shows \n",
    "    that posts with lower scores, have lower commments or less interactoin. Which means that people are actually aware of     fake news and trying to avoid them. "
   ]
  },
  {
   "cell_type": "code",
   "execution_count": 152,
   "metadata": {},
   "outputs": [],
   "source": [
    "from afinn import Afinn "
   ]
  },
  {
   "cell_type": "markdown",
   "metadata": {},
   "source": [
    "### Code Explaination: \n",
    "* Setting the lanuge to English \n",
    "* Using Afinn to extimate the Afinn sentiment Score for Titles of fakenews \n",
    "* Then apply the scorer to the 'Title\" column to create a new column \n",
    "* .describes gives a sense of distribution "
   ]
  },
  {
   "cell_type": "code",
   "execution_count": 161,
   "metadata": {},
   "outputs": [
    {
     "data": {
      "text/plain": [
       "count    528.000000\n",
       "mean      -0.969697\n",
       "std        2.044809\n",
       "min      -10.000000\n",
       "25%       -2.000000\n",
       "50%        0.000000\n",
       "75%        0.000000\n",
       "max        6.000000\n",
       "Name: afinn_score, dtype: float64"
      ]
     },
     "execution_count": 161,
     "metadata": {},
     "output_type": "execute_result"
    }
   ],
   "source": [
    "afinn = Afinn(language = 'en')\n",
    "fakenews['afinn_score'] = fakenews['Title'].apply(afinn.score)\n",
    "fakenews['afinn_score'].describe() \n"
   ]
  },
  {
   "cell_type": "markdown",
   "metadata": {},
   "source": [
    "### Code Explaination: \n",
    "* Sorted the afinn_score to get the sense of what is the extreme scoring title. Then subsset the dataframe to display the two relevent columns. "
   ]
  },
  {
   "cell_type": "code",
   "execution_count": 162,
   "metadata": {},
   "outputs": [
    {
     "data": {
      "text/html": [
       "<div>\n",
       "<style scoped>\n",
       "    .dataframe tbody tr th:only-of-type {\n",
       "        vertical-align: middle;\n",
       "    }\n",
       "\n",
       "    .dataframe tbody tr th {\n",
       "        vertical-align: top;\n",
       "    }\n",
       "\n",
       "    .dataframe thead th {\n",
       "        text-align: right;\n",
       "    }\n",
       "</style>\n",
       "<table border=\"1\" class=\"dataframe\">\n",
       "  <thead>\n",
       "    <tr style=\"text-align: right;\">\n",
       "      <th></th>\n",
       "      <th>Title</th>\n",
       "      <th>afinn_score</th>\n",
       "    </tr>\n",
       "  </thead>\n",
       "  <tbody>\n",
       "    <tr>\n",
       "      <td>164</td>\n",
       "      <td>Criminal With ‘Violent History’ Freed Due to C...</td>\n",
       "      <td>-10.0</td>\n",
       "    </tr>\n",
       "    <tr>\n",
       "      <td>398</td>\n",
       "      <td>.... how using data manipulation in combinatio...</td>\n",
       "      <td>-10.0</td>\n",
       "    </tr>\n",
       "    <tr>\n",
       "      <td>333</td>\n",
       "      <td>Have you seen the fake \"weed kills coronavirus...</td>\n",
       "      <td>-8.0</td>\n",
       "    </tr>\n",
       "    <tr>\n",
       "      <td>210</td>\n",
       "      <td>‘Wuhan Plague’ Plaques Placed Around Atlanta b...</td>\n",
       "      <td>-8.0</td>\n",
       "    </tr>\n",
       "    <tr>\n",
       "      <td>17</td>\n",
       "      <td>Wolf Administration is Caught Adding Up to 269...</td>\n",
       "      <td>-8.0</td>\n",
       "    </tr>\n",
       "    <tr>\n",
       "      <td>...</td>\n",
       "      <td>...</td>\n",
       "      <td>...</td>\n",
       "    </tr>\n",
       "    <tr>\n",
       "      <td>198</td>\n",
       "      <td>Wouldn’t It Be Wonderful If Coronavirus Brough...</td>\n",
       "      <td>4.0</td>\n",
       "    </tr>\n",
       "    <tr>\n",
       "      <td>44</td>\n",
       "      <td>Nobel Prize Winner Says Coronavirus Had To Com...</td>\n",
       "      <td>4.0</td>\n",
       "    </tr>\n",
       "    <tr>\n",
       "      <td>18</td>\n",
       "      <td>Mankind's Best Friend: Dogs Being Trained To D...</td>\n",
       "      <td>4.0</td>\n",
       "    </tr>\n",
       "    <tr>\n",
       "      <td>67</td>\n",
       "      <td>Biden Says He Is ‘Excited’ By Coronavirus ‘Opp...</td>\n",
       "      <td>5.0</td>\n",
       "    </tr>\n",
       "    <tr>\n",
       "      <td>385</td>\n",
       "      <td>I haven't posted on here before, so much pleas...</td>\n",
       "      <td>6.0</td>\n",
       "    </tr>\n",
       "  </tbody>\n",
       "</table>\n",
       "<p>528 rows × 2 columns</p>\n",
       "</div>"
      ],
      "text/plain": [
       "                                                 Title  afinn_score\n",
       "164  Criminal With ‘Violent History’ Freed Due to C...        -10.0\n",
       "398  .... how using data manipulation in combinatio...        -10.0\n",
       "333  Have you seen the fake \"weed kills coronavirus...         -8.0\n",
       "210  ‘Wuhan Plague’ Plaques Placed Around Atlanta b...         -8.0\n",
       "17   Wolf Administration is Caught Adding Up to 269...         -8.0\n",
       "..                                                 ...          ...\n",
       "198  Wouldn’t It Be Wonderful If Coronavirus Brough...          4.0\n",
       "44   Nobel Prize Winner Says Coronavirus Had To Com...          4.0\n",
       "18   Mankind's Best Friend: Dogs Being Trained To D...          4.0\n",
       "67   Biden Says He Is ‘Excited’ By Coronavirus ‘Opp...          5.0\n",
       "385  I haven't posted on here before, so much pleas...          6.0\n",
       "\n",
       "[528 rows x 2 columns]"
      ]
     },
     "execution_count": 162,
     "metadata": {},
     "output_type": "execute_result"
    }
   ],
   "source": [
    "display = ['Title', 'afinn_score']\n",
    "fakenews.sort_values(by='afinn_score')[display]"
   ]
  },
  {
   "cell_type": "code",
   "execution_count": 163,
   "metadata": {},
   "outputs": [
    {
     "data": {
      "text/plain": [
       "'Criminal With ‘Violent History’ Freed Due to Coronavirus Arrested In Carjacking, Hammer Attack'"
      ]
     },
     "execution_count": 163,
     "metadata": {},
     "output_type": "execute_result"
    }
   ],
   "source": [
    "# Gives the most negative title among the fakenews \n",
    "most_negative = fakenews.iloc[164]['Title']\n",
    "most_negative"
   ]
  },
  {
   "cell_type": "markdown",
   "metadata": {},
   "source": [
    "* One drawback is that using the raw Afinn score the longer score might produce higher values beacuse they contain more words. To adjust that, we did the following \n",
    "* We can divide the original score by the word count to produce afinn_adjusted. This isn’t exactly a percentage variable, since word scores in Afinn can range from -5 to 5, but it is a useful adjustment to control for variable comment length. To make it clearer that this isn’t a percent score, and to make the results more readable, the adjustment is multiplied by 100."
   ]
  },
  {
   "cell_type": "code",
   "execution_count": 164,
   "metadata": {},
   "outputs": [
    {
     "data": {
      "text/plain": [
       "count    528.000000\n",
       "mean     -11.192929\n",
       "std       40.379846\n",
       "min     -400.000000\n",
       "25%      -18.181818\n",
       "50%        0.000000\n",
       "75%        0.000000\n",
       "max      200.000000\n",
       "Name: afinn_adjusted, dtype: float64"
      ]
     },
     "execution_count": 164,
     "metadata": {},
     "output_type": "execute_result"
    }
   ],
   "source": [
    "def word_count(text_string):\n",
    "    '''Calculate the number of words in a string'''\n",
    "    return len(text_string.split())\n",
    "fakenews['word_count'] = fakenews['Title'].apply(word_count)\n",
    "fakenews['word_count'].describe()\n",
    "fakenews['afinn_adjusted'] = fakenews['afinn_score'] / fakenews['word_count'] * 100\n",
    "fakenews_sentiment_score = fakenews['afinn_adjusted'].describe()\n",
    "fakenews_sentiment_score"
   ]
  },
  {
   "cell_type": "code",
   "execution_count": 185,
   "metadata": {
    "scrolled": false
   },
   "outputs": [
    {
     "data": {
      "text/html": [
       "<div>\n",
       "<style scoped>\n",
       "    .dataframe tbody tr th:only-of-type {\n",
       "        vertical-align: middle;\n",
       "    }\n",
       "\n",
       "    .dataframe tbody tr th {\n",
       "        vertical-align: top;\n",
       "    }\n",
       "\n",
       "    .dataframe thead th {\n",
       "        text-align: right;\n",
       "    }\n",
       "</style>\n",
       "<table border=\"1\" class=\"dataframe\">\n",
       "  <thead>\n",
       "    <tr style=\"text-align: right;\">\n",
       "      <th></th>\n",
       "      <th>Title</th>\n",
       "      <th>afinn_score</th>\n",
       "    </tr>\n",
       "  </thead>\n",
       "  <tbody>\n",
       "    <tr>\n",
       "      <td>59</td>\n",
       "      <td>A Medical Worker Describes Terrifying Lung Fai...</td>\n",
       "      <td>-10.0</td>\n",
       "    </tr>\n",
       "    <tr>\n",
       "      <td>284</td>\n",
       "      <td>What Happens If Workers Cutting Up the Nation’...</td>\n",
       "      <td>-10.0</td>\n",
       "    </tr>\n",
       "    <tr>\n",
       "      <td>40</td>\n",
       "      <td>Past Mistakes: The Spanish Flu that started on...</td>\n",
       "      <td>-9.0</td>\n",
       "    </tr>\n",
       "    <tr>\n",
       "      <td>237</td>\n",
       "      <td>Amazon Worker Who Was Fired After Coronavirus ...</td>\n",
       "      <td>-8.0</td>\n",
       "    </tr>\n",
       "    <tr>\n",
       "      <td>279</td>\n",
       "      <td>OSHA Flooded With Thousands of Worker Complain...</td>\n",
       "      <td>-8.0</td>\n",
       "    </tr>\n",
       "    <tr>\n",
       "      <td>...</td>\n",
       "      <td>...</td>\n",
       "      <td>...</td>\n",
       "    </tr>\n",
       "    <tr>\n",
       "      <td>84</td>\n",
       "      <td>Boris Johnson praises immigrant nurses who sav...</td>\n",
       "      <td>5.0</td>\n",
       "    </tr>\n",
       "    <tr>\n",
       "      <td>187</td>\n",
       "      <td>New report on first US case of novel coronavir...</td>\n",
       "      <td>7.0</td>\n",
       "    </tr>\n",
       "    <tr>\n",
       "      <td>150</td>\n",
       "      <td>Detroit automakers shut down plants but worker...</td>\n",
       "      <td>7.0</td>\n",
       "    </tr>\n",
       "    <tr>\n",
       "      <td>158</td>\n",
       "      <td>‘He just got better and better’: 104-year-old ...</td>\n",
       "      <td>7.0</td>\n",
       "    </tr>\n",
       "    <tr>\n",
       "      <td>27</td>\n",
       "      <td>'Heads we win, tails you lose': how America's ...</td>\n",
       "      <td>11.0</td>\n",
       "    </tr>\n",
       "  </tbody>\n",
       "</table>\n",
       "<p>391 rows × 2 columns</p>\n",
       "</div>"
      ],
      "text/plain": [
       "                                                 Title  afinn_score\n",
       "59   A Medical Worker Describes Terrifying Lung Fai...        -10.0\n",
       "284  What Happens If Workers Cutting Up the Nation’...        -10.0\n",
       "40   Past Mistakes: The Spanish Flu that started on...         -9.0\n",
       "237  Amazon Worker Who Was Fired After Coronavirus ...         -8.0\n",
       "279  OSHA Flooded With Thousands of Worker Complain...         -8.0\n",
       "..                                                 ...          ...\n",
       "84   Boris Johnson praises immigrant nurses who sav...          5.0\n",
       "187  New report on first US case of novel coronavir...          7.0\n",
       "150  Detroit automakers shut down plants but worker...          7.0\n",
       "158  ‘He just got better and better’: 104-year-old ...          7.0\n",
       "27   'Heads we win, tails you lose': how America's ...         11.0\n",
       "\n",
       "[391 rows x 2 columns]"
      ]
     },
     "execution_count": 185,
     "metadata": {},
     "output_type": "execute_result"
    }
   ],
   "source": [
    "# Gives the most positive fact news \n",
    "facts['afinn_score'] = facts['Title'].apply(afinn.score)\n",
    "display1 = ['Title', 'afinn_score']\n",
    "facts.sort_values(by='afinn_score')[display1]\n",
    "# Most positive news title is the last one with larger positive score \n"
   ]
  },
  {
   "cell_type": "code",
   "execution_count": 186,
   "metadata": {},
   "outputs": [
    {
     "data": {
      "text/plain": [
       "\"'Heads we win, tails you lose': how America's rich have turned pandemic into profit | As 26 million Americans lose their jobs, the billionaire class has added $308bn to its wealth\""
      ]
     },
     "execution_count": 186,
     "metadata": {},
     "output_type": "execute_result"
    }
   ],
   "source": [
    "# Most positive real news \n",
    "most_positive = facts.iloc[27]['Title']\n",
    "most_positive"
   ]
  },
  {
   "cell_type": "code",
   "execution_count": 187,
   "metadata": {},
   "outputs": [
    {
     "data": {
      "text/plain": [
       "count    391.000000\n",
       "mean      -5.895504\n",
       "std       15.339294\n",
       "min      -62.500000\n",
       "25%      -15.000000\n",
       "50%        0.000000\n",
       "75%        0.000000\n",
       "max       55.555556\n",
       "Name: afinn_adjusted, dtype: float64"
      ]
     },
     "execution_count": 187,
     "metadata": {},
     "output_type": "execute_result"
    }
   ],
   "source": [
    "def word_count(text_string):\n",
    "    return len(text_string.split())\n",
    "facts['word_count'] = facts['Title'].apply(word_count)\n",
    "facts['word_count'].describe()\n",
    "facts['afinn_adjusted'] = facts['afinn_score'] / facts['word_count'] * 100\n",
    "facts_sentiment_score = facts['afinn_adjusted'].describe()\n",
    "facts_sentiment_score"
   ]
  },
  {
   "cell_type": "markdown",
   "metadata": {},
   "source": [
    "### Analysis and Findings: \n",
    "* By looking at both score values from fakenews and facts, we can see that they have significant difference between the values. Looking at the min value, suggests that the fekenews carries more negative vibes than facts. They use most informal and vague words which resulted the huge difference between both comparison. \n",
    "* This is a helpful finding to suggest people that if a news has more negative and informal words, they are most likely to be fake news. "
   ]
  },
  {
   "cell_type": "markdown",
   "metadata": {},
   "source": [
    "## Conclusion\n",
    "* Looking at the Sentiment Analysis, it's evident that fake news posts follow similar trends as the factual posts. That said the degree of the extremeness of fake news posts is higher than that of factual news. As statistically proven, fake news tends to be either extremely positive or extremely negative. This polarity suggests an element of clickbait-ness that follows that of non-COVID related fake news too. Also observing the response of people to fake news versus factual news, people tend to respond more to those posts that are factual. Most people are successfully weeding out false posts and reacting to them appropriately. It suggests people are being careful about what they believe in a world-wide pandemic where misinformation could have found the perfect breeding ground.\n",
    "\n",
    "* Our results from the AFINN Sentiment Score also support this idea that factual information does not use heavily bias opinions in their titles. The AFINN scores on the factual subreddits are much closer to zero than the conspiracy subreddit. The AFINN score is calculated by giving certain words a value based on how positive or negative word is. So a 5 is positive bias while -5 is negatively bias.  This shows that the factual info provided is neutral is meant only to inform the audience, instead of spurring on divisive interaction online. It also seems that the more a post is talked about, the more it seems that people don't agree with the post. In the AFINN data collected on the COVID-19 conspiracies subreddit, it seems it was more talked about than the factual info on COV-19 and the AFINN score average was much farther from zero for the COVID-19 conspiracies than the factual info. This shows that the underlying negative sentiment spurs on divisive dialogue online. This finding from our report can alert people to be aware of fake news from simply looking at any news title, and before trusting the news, validate the source of the news.\n",
    "\n",
    "* Our goal for doing this project to look for specific patterns, the speed of spreading, and see how much people are trusting the fake news. Our group believes, we were able to come up with some interesting findings through our report which will aware the audience about the spread of misinformation. Our report was based on COVID1-19, which is one of the most talked topics now. Understanding this topic can help us to be aware in the future in case of other national or world emergencies.\n"
   ]
  },
  {
   "cell_type": "markdown",
   "metadata": {},
   "source": [
    " ### Works Cited \n",
    "1. Keller, Tobias R., and Rosalie Gillett. “Why Is It so Hard to Stop COVID-19 Misinformation Spreading on Social Media?” The Conversation, 14 Apr. 2020, theconversation.com/why-is-it-so-hard-to-stop-covid-19-misinformation-spreading-on-social-media-134396.\n",
    "2. https://canvas.vt.edu/courses/104561/files/folder/Projects/sample-papers?preview=12664721\n",
    "3. https://nealcaren.org/lessons/wordlists/\n",
    "\n"
   ]
  }
 ],
 "metadata": {
  "kernelspec": {
   "display_name": "Python 3",
   "language": "python",
   "name": "python3"
  },
  "language_info": {
   "codemirror_mode": {
    "name": "ipython",
    "version": 3
   },
   "file_extension": ".py",
   "mimetype": "text/x-python",
   "name": "python",
   "nbconvert_exporter": "python",
   "pygments_lexer": "ipython3",
   "version": "3.7.4"
  }
 },
 "nbformat": 4,
 "nbformat_minor": 2
}
